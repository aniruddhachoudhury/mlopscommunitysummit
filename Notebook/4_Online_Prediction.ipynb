{
 "cells": [
  {
   "cell_type": "markdown",
   "metadata": {
    "tags": []
   },
   "source": [
    "![](inference.png)"
   ]
  },
  {
   "cell_type": "markdown",
   "metadata": {},
   "source": [
    "# Inference Layer\n",
    "## Contents\n",
    "- <a href='#1'>1. Load Python libraries and importing the data</a>  \n",
    "\n",
    "\n",
    "- <a href='#2'>2. Feature Store Client initialization</a> \n",
    "    \n",
    "    \n",
    "- <a href='#3'>3. Feature Registry</a>\n",
    "    - <a href='#3.1'>3.1  Scenario 1 : Batch Prediction</a> \n",
    "    - <a href='#3.2'>3.2. Scenario 2 :Online Redis Data for prediction</a> \n",
    "\n",
    "    \n",
    "\n",
    "\n"
   ]
  },
  {
   "cell_type": "markdown",
   "metadata": {},
   "source": [
    "## 1. Load Python libraries and importing the data"
   ]
  },
  {
   "cell_type": "code",
   "execution_count": 63,
   "metadata": {},
   "outputs": [],
   "source": [
    "import os,json\n",
    "import numpy as np\n",
    "import pandas as pd\n",
    "import random,time\n",
    "from datetime import datetime\n",
    "from feast import Client, Feature, Entity, ValueType, FeatureTable\n",
    "from feast.data_source import FileSource, KafkaSource\n",
    "from feast.data_format import ParquetFormat, AvroFormat\n",
    "from feast.pyspark.abc import RetrievalJobParameters, SparkJobStatus, SparkJob\n",
    "import feast.staging.entities as entities\n",
    "from feast.config import Config\n",
    "import gcsfs\n",
    "from pyarrow.parquet import ParquetDataset\n",
    "from urllib.parse import urlparse"
   ]
  },
  {
   "cell_type": "markdown",
   "metadata": {},
   "source": [
    "## 2. Feature Store Client initialization"
   ]
  },
  {
   "cell_type": "markdown",
   "metadata": {},
   "source": [
    ">  Run the following Command by connecting to Kubernetes Cluster\n",
    "\n",
    "%%bash\n",
    "```\n",
    "kubectl get svc \n",
    "\n",
    "```\n",
    "- Copy the Redis & Kafka IP and paste in below variables \n",
    "- Copy the Project ID and paste below\n",
    "- Copy the Dataproc Cluster Name and GCS Staging bucket\n",
    "- Copy the GCS feast staging bucket"
   ]
  },
  {
   "cell_type": "code",
   "execution_count": 12,
   "metadata": {
    "tags": []
   },
   "outputs": [],
   "source": [
    "\n",
    "class feature_store_client:\n",
    "    \n",
    "    def __init__(self,env,bucket):\n",
    "        \n",
    "        self.env=env\n",
    "        self.staging_bucket=bucket\n",
    "        \n",
    "    def feature_store_settings(self):\n",
    "        \n",
    "        if self.env.lower()==\"dataproc\":\n",
    "            # Using environmental variables\n",
    "            environment = {'FEAST_CORE_URL': 'feast-release-feast-core.default:6565',\n",
    "                         'FEAST_DATAPROC_CLUSTER_NAME': 'dataprocfeast',\n",
    "                         'FEAST_DATAPROC_PROJECT': '<PROJECT>',\n",
    "                         'FEAST_DATAPROC_REGION': 'us-east1',\n",
    "                         'FEAST_STAGING_LOCATION': self.staging_bucket,\n",
    "                         'FEAST_HISTORICAL_FEATURE_OUTPUT_FORMAT': 'parquet',\n",
    "                         'FEAST_HISTORICAL_FEATURE_OUTPUT_LOCATION': f\"{self.staging_bucket}historical\" ,\n",
    "                         'FEAST_HISTORICAL_SERVING_URL': 'feast-release-feast-online-serving.default:6566',\n",
    "                         'FEAST_REDIS_HOST': '<REDIS_IP>',\n",
    "                         'FEAST_REDIS_PORT': '6379',\n",
    "                         'FEAST_SERVING_URL': 'feast-release-feast-online-serving.default:6566',\n",
    "                         'FEAST_SPARK_HOME': '/usr/local/spark',\n",
    "                         'FEAST_SPARK_LAUNCHER': 'dataproc',\n",
    "                         'FEAST_SPARK_STAGING_LOCATION': 'gs://dataproc-staging-us-east1-996861042416-4w01soni/artifacts/',\n",
    "                         'FEAST_SPARK_STANDALONE_MASTER': 'local[*]',\n",
    "                         'STAGING_BUCKET': self.staging_bucket,\n",
    "                         'DEMO_KAFKA_BROKERS': '<KAFKA_IP>'\n",
    "                           \n",
    "                          }              \n",
    "     \n",
    "            for key,value in environment.items():\n",
    "                os.environ[key] = value \n",
    "            \n",
    "            \n",
    "       "
   ]
  },
  {
   "cell_type": "code",
   "execution_count": 13,
   "metadata": {
    "tags": []
   },
   "outputs": [],
   "source": [
    "staging_bucket='gs://feast-staging-bucket-9919526/'\n",
    "set_env=feature_store_client('Dataproc',staging_bucket)\n",
    "set_env.feature_store_settings()"
   ]
  },
  {
   "cell_type": "code",
   "execution_count": 14,
   "metadata": {},
   "outputs": [],
   "source": [
    "\n",
    "client = Client()\n",
    "               "
   ]
  },
  {
   "cell_type": "markdown",
   "metadata": {},
   "source": [
    "## 3.  Scenario 1 : Batch Prediction\n",
    "##  Retrieving historical features\n",
    "Feast provides a historical retrieval interface for exporting feature data in order to train machine learning models. Essentially, users are able to enrich their data with features from any feature tables.\n",
    "\n",
    "1. Define feature references\n",
    "Feature references define the specific features that will be retrieved from Feast. These features can come from multiple feature tables. The only requirement is that the feature tables that make up the feature references have the same entity (or composite entity).\n",
    "\n",
    "2. Define an entity dataframe\n",
    "\n",
    "Feast needs to join feature values onto specific entities at specific points in time. Thus, it is necessary to provide an entity dataframe as part of the get_historical_features method. In the example above we are defining an entity source. This source is an external file that provides Feast with the entity dataframe.\n",
    "\n",
    "3. Launch historical retrieval job\n",
    "\n",
    "Once the feature references and an entity source are defined, it is possible to call get_historical_features(). This method launches a job that extracts features from the sources defined in the provided feature tables, joins them onto the provided entity source, and returns a reference to the training dataset that is produced."
   ]
  },
  {
   "cell_type": "code",
   "execution_count": 15,
   "metadata": {
    "jupyter": {
     "source_hidden": true
    }
   },
   "outputs": [],
   "source": [
    "def read_parquet(uri):\n",
    "    parsed_uri = urlparse(uri)\n",
    "    if parsed_uri.scheme == \"file\":\n",
    "        return pd.read_parquet(parsed_uri.path)\n",
    "    elif parsed_uri.scheme == \"gs\":\n",
    "        fs = gcsfs.GCSFileSystem()\n",
    "        files = [\"gs://\" + path for path in fs.glob(uri + '/part-*')]\n",
    "        ds = ParquetDataset(files, filesystem=fs)\n",
    "        return ds.read().to_pandas()\n",
    "    elif parsed_uri.scheme == 's3':\n",
    "        import s3fs\n",
    "        fs = s3fs.S3FileSystem()\n",
    "        files = [\"s3://\" + path for path in fs.glob(uri + '/part-*')]\n",
    "        ds = ParquetDataset(files, filesystem=fs)\n",
    "        return ds.read().to_pandas()\n",
    "    elif parsed_uri.scheme == 'wasbs':\n",
    "        import adlfs\n",
    "        fs = adlfs.AzureBlobFileSystem(\n",
    "            account_name=os.getenv('FEAST_AZURE_BLOB_ACCOUNT_NAME'), account_key=os.getenv('FEAST_AZURE_BLOB_ACCOUNT_ACCESS_KEY')\n",
    "        )\n",
    "        uripath = parsed_uri.username + parsed_uri.path\n",
    "        files = fs.glob(uripath + '/part-*')\n",
    "        ds = ParquetDataset(files, filesystem=fs)\n",
    "        return ds.read().to_pandas()\n",
    "    else:\n",
    "        raise ValueError(f\"Unsupported URL scheme {uri}\")"
   ]
  },
  {
   "cell_type": "code",
   "execution_count": 16,
   "metadata": {},
   "outputs": [
    {
     "data": {
      "text/plain": [
       "['fare_statistics:passenger_count',\n",
       " 'fare_statistics:fare_amount',\n",
       " 'fare_statistics:target',\n",
       " 'trip_statistics:pickup_longitude',\n",
       " 'trip_statistics:pickup_latitude',\n",
       " 'trip_statistics:dropoff_longitude',\n",
       " 'trip_statistics:dropoff_latitude',\n",
       " 'trip_statistics:longitude_distance',\n",
       " 'trip_statistics:latitude_distance',\n",
       " 'trip_statistics:distance_travelled']"
      ]
     },
     "execution_count": 16,
     "metadata": {},
     "output_type": "execute_result"
    }
   ],
   "source": [
    "with open(\"features.json\") as f:\n",
    "    features = json.load(f)\n",
    "features"
   ]
  },
  {
   "cell_type": "code",
   "execution_count": 17,
   "metadata": {},
   "outputs": [],
   "source": [
    "def change_datetime(df,col):\n",
    "    df[col]=pd.to_datetime(df[col])\n",
    "    return df\n"
   ]
  },
  {
   "cell_type": "code",
   "execution_count": 18,
   "metadata": {},
   "outputs": [],
   "source": [
    "entities_with_timestamp=pd.read_csv('gs://feastproject/driver_id.csv')\n",
    "entities_with_timestamp=change_datetime(entities_with_timestamp,'event_timestamp')"
   ]
  },
  {
   "cell_type": "code",
   "execution_count": 19,
   "metadata": {},
   "outputs": [],
   "source": [
    "# get_historical_features will return immediately once the Spark job has been submitted succesfully.\n",
    "job = client.get_historical_features(\n",
    "    feature_refs=features,\n",
    "entity_source= entities.stage_entities_to_fs(entity_source=entities_with_timestamp, staging_location=os.getenv(\"STAGING_BUCKET\"),config= Config)\n",
    ")"
   ]
  },
  {
   "cell_type": "code",
   "execution_count": 20,
   "metadata": {},
   "outputs": [],
   "source": [
    "# get_output_file_uri will block until the Spark job is completed.\n",
    "output_file_uri = job.get_output_file_uri()"
   ]
  },
  {
   "cell_type": "code",
   "execution_count": 21,
   "metadata": {},
   "outputs": [
    {
     "data": {
      "text/html": [
       "<div>\n",
       "<style scoped>\n",
       "    .dataframe tbody tr th:only-of-type {\n",
       "        vertical-align: middle;\n",
       "    }\n",
       "\n",
       "    .dataframe tbody tr th {\n",
       "        vertical-align: top;\n",
       "    }\n",
       "\n",
       "    .dataframe thead th {\n",
       "        text-align: right;\n",
       "    }\n",
       "</style>\n",
       "<table border=\"1\" class=\"dataframe\">\n",
       "  <thead>\n",
       "    <tr style=\"text-align: right;\">\n",
       "      <th></th>\n",
       "      <th>driver_id</th>\n",
       "      <th>event_timestamp</th>\n",
       "      <th>fare_statistics__passenger_count</th>\n",
       "      <th>fare_statistics__fare_amount</th>\n",
       "      <th>fare_statistics__target</th>\n",
       "      <th>trip_statistics__pickup_latitude</th>\n",
       "      <th>trip_statistics__dropoff_longitude</th>\n",
       "      <th>trip_statistics__pickup_longitude</th>\n",
       "      <th>trip_statistics__distance_travelled</th>\n",
       "      <th>trip_statistics__dropoff_latitude</th>\n",
       "      <th>trip_statistics__latitude_distance</th>\n",
       "      <th>trip_statistics__longitude_distance</th>\n",
       "    </tr>\n",
       "  </thead>\n",
       "  <tbody>\n",
       "    <tr>\n",
       "      <th>0</th>\n",
       "      <td>969360</td>\n",
       "      <td>2020-10-18 13:52:18</td>\n",
       "      <td>1.0</td>\n",
       "      <td>-0.094390</td>\n",
       "      <td>1.0</td>\n",
       "      <td>40.775044</td>\n",
       "      <td>-73.967976</td>\n",
       "      <td>-73.976809</td>\n",
       "      <td>0.015092</td>\n",
       "      <td>40.762807</td>\n",
       "      <td>0.012237</td>\n",
       "      <td>0.008833</td>\n",
       "    </tr>\n",
       "    <tr>\n",
       "      <th>1</th>\n",
       "      <td>235304</td>\n",
       "      <td>2020-10-18 11:09:46</td>\n",
       "      <td>2.0</td>\n",
       "      <td>1.775493</td>\n",
       "      <td>1.0</td>\n",
       "      <td>40.737000</td>\n",
       "      <td>-73.864842</td>\n",
       "      <td>-73.978438</td>\n",
       "      <td>0.118402</td>\n",
       "      <td>40.770393</td>\n",
       "      <td>0.033393</td>\n",
       "      <td>0.113596</td>\n",
       "    </tr>\n",
       "    <tr>\n",
       "      <th>2</th>\n",
       "      <td>879445</td>\n",
       "      <td>2020-10-19 19:47:45</td>\n",
       "      <td>4.0</td>\n",
       "      <td>1.442517</td>\n",
       "      <td>1.0</td>\n",
       "      <td>40.779072</td>\n",
       "      <td>-74.005989</td>\n",
       "      <td>-73.962341</td>\n",
       "      <td>0.082182</td>\n",
       "      <td>40.709438</td>\n",
       "      <td>0.069633</td>\n",
       "      <td>0.043648</td>\n",
       "    </tr>\n",
       "    <tr>\n",
       "      <th>3</th>\n",
       "      <td>432934</td>\n",
       "      <td>2020-10-19 16:14:06</td>\n",
       "      <td>1.0</td>\n",
       "      <td>-0.409891</td>\n",
       "      <td>0.0</td>\n",
       "      <td>40.789004</td>\n",
       "      <td>-73.959358</td>\n",
       "      <td>-73.966692</td>\n",
       "      <td>0.021315</td>\n",
       "      <td>40.809018</td>\n",
       "      <td>0.020014</td>\n",
       "      <td>0.007334</td>\n",
       "    </tr>\n",
       "    <tr>\n",
       "      <th>4</th>\n",
       "      <td>464887</td>\n",
       "      <td>2020-10-18 22:50:28</td>\n",
       "      <td>1.0</td>\n",
       "      <td>0.702562</td>\n",
       "      <td>1.0</td>\n",
       "      <td>40.753488</td>\n",
       "      <td>-74.006575</td>\n",
       "      <td>-73.972740</td>\n",
       "      <td>0.035912</td>\n",
       "      <td>40.741452</td>\n",
       "      <td>0.012036</td>\n",
       "      <td>0.033835</td>\n",
       "    </tr>\n",
       "  </tbody>\n",
       "</table>\n",
       "</div>"
      ],
      "text/plain": [
       "   driver_id     event_timestamp  fare_statistics__passenger_count  \\\n",
       "0     969360 2020-10-18 13:52:18                               1.0   \n",
       "1     235304 2020-10-18 11:09:46                               2.0   \n",
       "2     879445 2020-10-19 19:47:45                               4.0   \n",
       "3     432934 2020-10-19 16:14:06                               1.0   \n",
       "4     464887 2020-10-18 22:50:28                               1.0   \n",
       "\n",
       "   fare_statistics__fare_amount  fare_statistics__target  \\\n",
       "0                     -0.094390                      1.0   \n",
       "1                      1.775493                      1.0   \n",
       "2                      1.442517                      1.0   \n",
       "3                     -0.409891                      0.0   \n",
       "4                      0.702562                      1.0   \n",
       "\n",
       "   trip_statistics__pickup_latitude  trip_statistics__dropoff_longitude  \\\n",
       "0                         40.775044                          -73.967976   \n",
       "1                         40.737000                          -73.864842   \n",
       "2                         40.779072                          -74.005989   \n",
       "3                         40.789004                          -73.959358   \n",
       "4                         40.753488                          -74.006575   \n",
       "\n",
       "   trip_statistics__pickup_longitude  trip_statistics__distance_travelled  \\\n",
       "0                         -73.976809                             0.015092   \n",
       "1                         -73.978438                             0.118402   \n",
       "2                         -73.962341                             0.082182   \n",
       "3                         -73.966692                             0.021315   \n",
       "4                         -73.972740                             0.035912   \n",
       "\n",
       "   trip_statistics__dropoff_latitude  trip_statistics__latitude_distance  \\\n",
       "0                          40.762807                            0.012237   \n",
       "1                          40.770393                            0.033393   \n",
       "2                          40.709438                            0.069633   \n",
       "3                          40.809018                            0.020014   \n",
       "4                          40.741452                            0.012036   \n",
       "\n",
       "   trip_statistics__longitude_distance  \n",
       "0                             0.008833  \n",
       "1                             0.113596  \n",
       "2                             0.043648  \n",
       "3                             0.007334  \n",
       "4                             0.033835  "
      ]
     },
     "execution_count": 21,
     "metadata": {},
     "output_type": "execute_result"
    }
   ],
   "source": [
    "Master_featured_data=read_parquet(output_file_uri)\n",
    "Master_featured_data.head()"
   ]
  },
  {
   "cell_type": "markdown",
   "metadata": {},
   "source": [
    "#### Spark Job Status"
   ]
  },
  {
   "cell_type": "code",
   "execution_count": 22,
   "metadata": {},
   "outputs": [],
   "source": [
    "def wait_for_job_status(\n",
    "    job: SparkJob,\n",
    "    expected_status: SparkJobStatus,\n",
    "    max_retry: int = 4,\n",
    "    retry_interval: int = 5,\n",
    "):\n",
    "    for i in range(max_retry):\n",
    "        if job.get_status() == expected_status:\n",
    "            print(\"The Spark Job is Completed\")\n",
    "            return\n",
    "        time.sleep(retry_interval)\n",
    "    raise ValueError(f\"Timeout waiting for job status to become {expected_status.name}\")"
   ]
  },
  {
   "cell_type": "code",
   "execution_count": 23,
   "metadata": {},
   "outputs": [
    {
     "name": "stdout",
     "output_type": "stream",
     "text": [
      "The Spark Job is Completed\n"
     ]
    }
   ],
   "source": [
    "wait_for_job_status(job,SparkJobStatus.COMPLETED)"
   ]
  },
  {
   "cell_type": "code",
   "execution_count": 24,
   "metadata": {},
   "outputs": [],
   "source": [
    "pred_dict={'instances':Master_featured_data.drop(columns=['driver_id','event_timestamp','fare_statistics__target']).iloc[7:8,:].values.tolist()[0]}"
   ]
  },
  {
   "cell_type": "code",
   "execution_count": 28,
   "metadata": {},
   "outputs": [
    {
     "data": {
      "text/plain": [
       "{'instances': [1.0,\n",
       "  0.19824585210095336,\n",
       "  40.85737991333008,\n",
       "  -73.90807342529298,\n",
       "  -73.90799713134766,\n",
       "  7.864199879342028e-05,\n",
       "  40.85736083984375,\n",
       "  1.9073486328125e-05,\n",
       "  7.629394532671085e-05]}"
      ]
     },
     "execution_count": 28,
     "metadata": {},
     "output_type": "execute_result"
    }
   ],
   "source": [
    "pred_dict"
   ]
  },
  {
   "cell_type": "code",
   "execution_count": 25,
   "metadata": {},
   "outputs": [],
   "source": [
    "import requests\n",
    "def predict_object_detection(data, host,session, url):\n",
    "    headers = {}\n",
    "    headers[\"Host\"] = host\n",
    "    cookies = None\n",
    "    if session != \"\":\n",
    "        cookies = {'authservice_session': session}\n",
    "    print(url, headers, cookies)\n",
    "    res = requests.post(url, json=data, headers=headers,cookies=cookies, verify=False)\n",
    "    if res.status_code == 200:\n",
    "        return res.json()\n",
    "    else:\n",
    "        return \"Status code : {0}\".format(res.status_code)\n"
   ]
  },
  {
   "cell_type": "markdown",
   "metadata": {},
   "source": [
    "### Serving Enviorment Varibles"
   ]
  },
  {
   "cell_type": "markdown",
   "metadata": {},
   "source": [
    "Here we will be using Internal DNS of Kubernetes Service\n",
    "%%bash\n",
    "```\n",
    "kubectl get inferenceservice -n `$namespace`\n",
    "\n",
    "```\n",
    "**Format**:\n",
    "\n",
    "**HOST**: `<SERVING_MODEL_NAME>.<NAMESPACE>.svc.cluster.local`\n",
    "\n",
    "**URL**:  `http://<SERVING_MODEL_NAME>.<NAMESPACE>.svc.cluster.local/v1/models/<SERVING_MODEL_NAME>:predict`\n",
    "\n",
    "- Copy the Host and paste below\n",
    "- Copy the Predict URL endpoint"
   ]
  },
  {
   "cell_type": "code",
   "execution_count": 39,
   "metadata": {},
   "outputs": [],
   "source": [
    "session=\"\"\n",
    "host='seldon-serving.aniruddha-choudhury.svc.cluster.local'\n",
    "headers={\"Host\": host,\"Cookie\": \"authservice_session={}\".format(SESSION)}\n",
    "url='http://seldon-serving.aniruddha-choudhury.svc.cluster.local/v1/models/seldon-serving:predict'\n"
   ]
  },
  {
   "cell_type": "code",
   "execution_count": 41,
   "metadata": {},
   "outputs": [
    {
     "data": {
      "text/plain": [
       "{'predictions': 'Profit of Driver'}"
      ]
     },
     "execution_count": 41,
     "metadata": {},
     "output_type": "execute_result"
    }
   ],
   "source": [
    "response = requests.post(url, data =json.dumps(pred_dict) ,headers = headers)\n",
    "response.json()"
   ]
  },
  {
   "cell_type": "markdown",
   "metadata": {},
   "source": [
    "### Scenario : 2 Online Redis Data for prediction"
   ]
  },
  {
   "cell_type": "code",
   "execution_count": 42,
   "metadata": {},
   "outputs": [
    {
     "data": {
      "text/plain": [
       "[{'driver_id': 610685},\n",
       " {'driver_id': 825735},\n",
       " {'driver_id': 428317},\n",
       " {'driver_id': 356886},\n",
       " {'driver_id': 603801},\n",
       " {'driver_id': 183971},\n",
       " {'driver_id': 600461},\n",
       " {'driver_id': 596197},\n",
       " {'driver_id': 382017},\n",
       " {'driver_id': 599864},\n",
       " {'driver_id': 486440},\n",
       " {'driver_id': 60412},\n",
       " {'driver_id': 318925},\n",
       " {'driver_id': 942474},\n",
       " {'driver_id': 111143},\n",
       " {'driver_id': 991464},\n",
       " {'driver_id': 239703},\n",
       " {'driver_id': 580070},\n",
       " {'driver_id': 640316},\n",
       " {'driver_id': 365485}]"
      ]
     },
     "execution_count": 42,
     "metadata": {},
     "output_type": "execute_result"
    }
   ],
   "source": [
    "fare_details=pd.read_csv(\"faredetails.csv\")\n",
    "entities_sample = [{\"driver_id\": e} for e in fare_details['driver_id'].values.tolist()]\n",
    "entities_sample=entities_sample[:20]\n",
    "entities_sample"
   ]
  },
  {
   "cell_type": "code",
   "execution_count": 43,
   "metadata": {},
   "outputs": [],
   "source": [
    "features_online_data = client.get_online_features(\n",
    "    feature_refs=features,\n",
    "    entity_rows=entities_sample).to_dict()\n"
   ]
  },
  {
   "cell_type": "code",
   "execution_count": 44,
   "metadata": {},
   "outputs": [
    {
     "data": {
      "text/html": [
       "<div>\n",
       "<style scoped>\n",
       "    .dataframe tbody tr th:only-of-type {\n",
       "        vertical-align: middle;\n",
       "    }\n",
       "\n",
       "    .dataframe tbody tr th {\n",
       "        vertical-align: top;\n",
       "    }\n",
       "\n",
       "    .dataframe thead th {\n",
       "        text-align: right;\n",
       "    }\n",
       "</style>\n",
       "<table border=\"1\" class=\"dataframe\">\n",
       "  <thead>\n",
       "    <tr style=\"text-align: right;\">\n",
       "      <th></th>\n",
       "      <th>driver_id</th>\n",
       "      <th>fare_statistics:passenger_count</th>\n",
       "      <th>trip_statistics:distance_travelled</th>\n",
       "      <th>trip_statistics:pickup_latitude</th>\n",
       "      <th>trip_statistics:dropoff_longitude</th>\n",
       "      <th>trip_statistics:longitude_distance</th>\n",
       "      <th>trip_statistics:dropoff_latitude</th>\n",
       "      <th>trip_statistics:pickup_longitude</th>\n",
       "      <th>fare_statistics:target</th>\n",
       "      <th>fare_statistics:fare_amount</th>\n",
       "      <th>trip_statistics:latitude_distance</th>\n",
       "    </tr>\n",
       "  </thead>\n",
       "  <tbody>\n",
       "    <tr>\n",
       "      <th>0</th>\n",
       "      <td>610685</td>\n",
       "      <td>1</td>\n",
       "      <td>0.009436</td>\n",
       "      <td>40.721319</td>\n",
       "      <td>-73.841610</td>\n",
       "      <td>0.002701</td>\n",
       "      <td>40.712278</td>\n",
       "      <td>-73.844311</td>\n",
       "      <td>0</td>\n",
       "      <td>-1.354113</td>\n",
       "      <td>0.009041</td>\n",
       "    </tr>\n",
       "    <tr>\n",
       "      <th>1</th>\n",
       "      <td>825735</td>\n",
       "      <td>1</td>\n",
       "      <td>0.079696</td>\n",
       "      <td>40.711303</td>\n",
       "      <td>-73.979268</td>\n",
       "      <td>0.036780</td>\n",
       "      <td>40.782004</td>\n",
       "      <td>-74.016048</td>\n",
       "      <td>1</td>\n",
       "      <td>1.088648</td>\n",
       "      <td>0.070701</td>\n",
       "    </tr>\n",
       "    <tr>\n",
       "      <th>2</th>\n",
       "      <td>428317</td>\n",
       "      <td>2</td>\n",
       "      <td>0.013674</td>\n",
       "      <td>40.761270</td>\n",
       "      <td>-73.991242</td>\n",
       "      <td>0.008504</td>\n",
       "      <td>40.750562</td>\n",
       "      <td>-73.982738</td>\n",
       "      <td>0</td>\n",
       "      <td>-0.813646</td>\n",
       "      <td>0.010708</td>\n",
       "    </tr>\n",
       "    <tr>\n",
       "      <th>3</th>\n",
       "      <td>356886</td>\n",
       "      <td>1</td>\n",
       "      <td>0.025340</td>\n",
       "      <td>40.733143</td>\n",
       "      <td>-73.991567</td>\n",
       "      <td>0.004437</td>\n",
       "      <td>40.758092</td>\n",
       "      <td>-73.987130</td>\n",
       "      <td>0</td>\n",
       "      <td>-0.191734</td>\n",
       "      <td>0.024949</td>\n",
       "    </tr>\n",
       "    <tr>\n",
       "      <th>4</th>\n",
       "      <td>603801</td>\n",
       "      <td>1</td>\n",
       "      <td>0.019470</td>\n",
       "      <td>40.768008</td>\n",
       "      <td>-73.956655</td>\n",
       "      <td>0.011440</td>\n",
       "      <td>40.783762</td>\n",
       "      <td>-73.968095</td>\n",
       "      <td>0</td>\n",
       "      <td>-0.975267</td>\n",
       "      <td>0.015754</td>\n",
       "    </tr>\n",
       "  </tbody>\n",
       "</table>\n",
       "</div>"
      ],
      "text/plain": [
       "   driver_id  fare_statistics:passenger_count  \\\n",
       "0     610685                                1   \n",
       "1     825735                                1   \n",
       "2     428317                                2   \n",
       "3     356886                                1   \n",
       "4     603801                                1   \n",
       "\n",
       "   trip_statistics:distance_travelled  trip_statistics:pickup_latitude  \\\n",
       "0                            0.009436                        40.721319   \n",
       "1                            0.079696                        40.711303   \n",
       "2                            0.013674                        40.761270   \n",
       "3                            0.025340                        40.733143   \n",
       "4                            0.019470                        40.768008   \n",
       "\n",
       "   trip_statistics:dropoff_longitude  trip_statistics:longitude_distance  \\\n",
       "0                         -73.841610                            0.002701   \n",
       "1                         -73.979268                            0.036780   \n",
       "2                         -73.991242                            0.008504   \n",
       "3                         -73.991567                            0.004437   \n",
       "4                         -73.956655                            0.011440   \n",
       "\n",
       "   trip_statistics:dropoff_latitude  trip_statistics:pickup_longitude  \\\n",
       "0                         40.712278                        -73.844311   \n",
       "1                         40.782004                        -74.016048   \n",
       "2                         40.750562                        -73.982738   \n",
       "3                         40.758092                        -73.987130   \n",
       "4                         40.783762                        -73.968095   \n",
       "\n",
       "   fare_statistics:target  fare_statistics:fare_amount  \\\n",
       "0                       0                    -1.354113   \n",
       "1                       1                     1.088648   \n",
       "2                       0                    -0.813646   \n",
       "3                       0                    -0.191734   \n",
       "4                       0                    -0.975267   \n",
       "\n",
       "   trip_statistics:latitude_distance  \n",
       "0                           0.009041  \n",
       "1                           0.070701  \n",
       "2                           0.010708  \n",
       "3                           0.024949  \n",
       "4                           0.015754  "
      ]
     },
     "execution_count": 44,
     "metadata": {},
     "output_type": "execute_result"
    }
   ],
   "source": [
    "features_online_data=pd.DataFrame(features_online_data)\n",
    "features_online_data.head()"
   ]
  },
  {
   "cell_type": "markdown",
   "metadata": {},
   "source": [
    "####  Rearrange the Table for the Prediction on Trained Inference"
   ]
  },
  {
   "cell_type": "code",
   "execution_count": 45,
   "metadata": {},
   "outputs": [
    {
     "data": {
      "text/plain": [
       "['fare_statistics__passenger_count',\n",
       " 'trip_statistics__distance_travelled',\n",
       " 'trip_statistics__pickup_latitude',\n",
       " 'trip_statistics__dropoff_longitude',\n",
       " 'trip_statistics__longitude_distance',\n",
       " 'trip_statistics__dropoff_latitude',\n",
       " 'trip_statistics__pickup_longitude',\n",
       " 'fare_statistics__target',\n",
       " 'fare_statistics__fare_amount',\n",
       " 'trip_statistics__latitude_distance']"
      ]
     },
     "execution_count": 45,
     "metadata": {},
     "output_type": "execute_result"
    }
   ],
   "source": [
    "columns_regex=[]\n",
    "for i in list(features_online_data.drop(columns=['driver_id']).columns):\n",
    "    columns_regex.append('__'.join(i.split(':')))\n",
    "    features_online_data=features_online_data.rename(columns = {i:'__'.join(i.split(':'))})\n",
    "columns_regex"
   ]
  },
  {
   "cell_type": "code",
   "execution_count": 46,
   "metadata": {},
   "outputs": [
    {
     "data": {
      "text/html": [
       "<div>\n",
       "<style scoped>\n",
       "    .dataframe tbody tr th:only-of-type {\n",
       "        vertical-align: middle;\n",
       "    }\n",
       "\n",
       "    .dataframe tbody tr th {\n",
       "        vertical-align: top;\n",
       "    }\n",
       "\n",
       "    .dataframe thead th {\n",
       "        text-align: right;\n",
       "    }\n",
       "</style>\n",
       "<table border=\"1\" class=\"dataframe\">\n",
       "  <thead>\n",
       "    <tr style=\"text-align: right;\">\n",
       "      <th></th>\n",
       "      <th>fare_statistics__passenger_count</th>\n",
       "      <th>fare_statistics__fare_amount</th>\n",
       "      <th>trip_statistics__pickup_latitude</th>\n",
       "      <th>trip_statistics__dropoff_longitude</th>\n",
       "      <th>trip_statistics__pickup_longitude</th>\n",
       "      <th>trip_statistics__distance_travelled</th>\n",
       "      <th>trip_statistics__dropoff_latitude</th>\n",
       "      <th>trip_statistics__latitude_distance</th>\n",
       "      <th>trip_statistics__longitude_distance</th>\n",
       "    </tr>\n",
       "  </thead>\n",
       "  <tbody>\n",
       "    <tr>\n",
       "      <th>0</th>\n",
       "      <td>1</td>\n",
       "      <td>-1.354113</td>\n",
       "      <td>40.721319</td>\n",
       "      <td>-73.841610</td>\n",
       "      <td>-73.844311</td>\n",
       "      <td>0.009436</td>\n",
       "      <td>40.712278</td>\n",
       "      <td>0.009041</td>\n",
       "      <td>0.002701</td>\n",
       "    </tr>\n",
       "    <tr>\n",
       "      <th>1</th>\n",
       "      <td>1</td>\n",
       "      <td>1.088648</td>\n",
       "      <td>40.711303</td>\n",
       "      <td>-73.979268</td>\n",
       "      <td>-74.016048</td>\n",
       "      <td>0.079696</td>\n",
       "      <td>40.782004</td>\n",
       "      <td>0.070701</td>\n",
       "      <td>0.036780</td>\n",
       "    </tr>\n",
       "    <tr>\n",
       "      <th>2</th>\n",
       "      <td>2</td>\n",
       "      <td>-0.813646</td>\n",
       "      <td>40.761270</td>\n",
       "      <td>-73.991242</td>\n",
       "      <td>-73.982738</td>\n",
       "      <td>0.013674</td>\n",
       "      <td>40.750562</td>\n",
       "      <td>0.010708</td>\n",
       "      <td>0.008504</td>\n",
       "    </tr>\n",
       "    <tr>\n",
       "      <th>3</th>\n",
       "      <td>1</td>\n",
       "      <td>-0.191734</td>\n",
       "      <td>40.733143</td>\n",
       "      <td>-73.991567</td>\n",
       "      <td>-73.987130</td>\n",
       "      <td>0.025340</td>\n",
       "      <td>40.758092</td>\n",
       "      <td>0.024949</td>\n",
       "      <td>0.004437</td>\n",
       "    </tr>\n",
       "    <tr>\n",
       "      <th>4</th>\n",
       "      <td>1</td>\n",
       "      <td>-0.975267</td>\n",
       "      <td>40.768008</td>\n",
       "      <td>-73.956655</td>\n",
       "      <td>-73.968095</td>\n",
       "      <td>0.019470</td>\n",
       "      <td>40.783762</td>\n",
       "      <td>0.015754</td>\n",
       "      <td>0.011440</td>\n",
       "    </tr>\n",
       "  </tbody>\n",
       "</table>\n",
       "</div>"
      ],
      "text/plain": [
       "   fare_statistics__passenger_count  fare_statistics__fare_amount  \\\n",
       "0                                 1                     -1.354113   \n",
       "1                                 1                      1.088648   \n",
       "2                                 2                     -0.813646   \n",
       "3                                 1                     -0.191734   \n",
       "4                                 1                     -0.975267   \n",
       "\n",
       "   trip_statistics__pickup_latitude  trip_statistics__dropoff_longitude  \\\n",
       "0                         40.721319                          -73.841610   \n",
       "1                         40.711303                          -73.979268   \n",
       "2                         40.761270                          -73.991242   \n",
       "3                         40.733143                          -73.991567   \n",
       "4                         40.768008                          -73.956655   \n",
       "\n",
       "   trip_statistics__pickup_longitude  trip_statistics__distance_travelled  \\\n",
       "0                         -73.844311                             0.009436   \n",
       "1                         -74.016048                             0.079696   \n",
       "2                         -73.982738                             0.013674   \n",
       "3                         -73.987130                             0.025340   \n",
       "4                         -73.968095                             0.019470   \n",
       "\n",
       "   trip_statistics__dropoff_latitude  trip_statistics__latitude_distance  \\\n",
       "0                          40.712278                            0.009041   \n",
       "1                          40.782004                            0.070701   \n",
       "2                          40.750562                            0.010708   \n",
       "3                          40.758092                            0.024949   \n",
       "4                          40.783762                            0.015754   \n",
       "\n",
       "   trip_statistics__longitude_distance  \n",
       "0                             0.002701  \n",
       "1                             0.036780  \n",
       "2                             0.008504  \n",
       "3                             0.004437  \n",
       "4                             0.011440  "
      ]
     },
     "execution_count": 46,
     "metadata": {},
     "output_type": "execute_result"
    }
   ],
   "source": [
    "Master_Columns=list(Master_featured_data.columns)\n",
    "Prediction_DataFrame=pd.DataFrame()\n",
    "for i in Master_Columns:\n",
    "    if i in columns_regex:\n",
    "        Prediction_DataFrame[i]=features_online_data[i]\n",
    "    else:\n",
    "        pass\n",
    "Prediction_DataFrame.dropna(inplace=True)\n",
    "Prediction_DataFrame.drop(columns=['fare_statistics__target'],inplace=True)\n",
    "Prediction_DataFrame.head() "
   ]
  },
  {
   "cell_type": "code",
   "execution_count": 58,
   "metadata": {},
   "outputs": [],
   "source": [
    "pred_dict={'instances':Prediction_DataFrame.iloc[7:8,:].values.tolist()[0]}"
   ]
  },
  {
   "cell_type": "code",
   "execution_count": 61,
   "metadata": {},
   "outputs": [
    {
     "data": {
      "text/plain": [
       "{'predictions': 'Profit of Driver'}"
      ]
     },
     "execution_count": 61,
     "metadata": {},
     "output_type": "execute_result"
    }
   ],
   "source": [
    "response = requests.post(url, data =json.dumps(pred_dict) ,headers = headers)\n",
    "response.json()"
   ]
  },
  {
   "cell_type": "code",
   "execution_count": null,
   "metadata": {},
   "outputs": [],
   "source": []
  },
  {
   "cell_type": "code",
   "execution_count": null,
   "metadata": {},
   "outputs": [],
   "source": []
  }
 ],
 "metadata": {
  "interpreter": {
   "hash": "082e9a3bcad0a290d0001e938aa60b99250c6c2ef33a923c00b70f9826caf4b7"
  },
  "kernelspec": {
   "display_name": "Python 3",
   "language": "python",
   "name": "python3"
  },
  "language_info": {
   "codemirror_mode": {
    "name": "ipython",
    "version": 3
   },
   "file_extension": ".py",
   "mimetype": "text/x-python",
   "name": "python",
   "nbconvert_exporter": "python",
   "pygments_lexer": "ipython3",
   "version": "3.6.9"
  }
 },
 "nbformat": 4,
 "nbformat_minor": 5
}
